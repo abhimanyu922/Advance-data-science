{
  "nbformat": 4,
  "nbformat_minor": 0,
  "metadata": {
    "colab": {
      "provenance": []
    },
    "kernelspec": {
      "name": "python3",
      "display_name": "Python 3"
    },
    "language_info": {
      "name": "python"
    }
  },
  "cells": [
    {
      "cell_type": "markdown",
      "source": [
        "# Topic Identification"
      ],
      "metadata": {
        "id": "xtLB7rD3QWjN"
      }
    },
    {
      "cell_type": "code",
      "execution_count": 1,
      "metadata": {
        "colab": {
          "base_uri": "https://localhost:8080/"
        },
        "id": "hefeN_awQQdO",
        "outputId": "a97f03db-7419-4723-a1cf-a417fa36383a"
      },
      "outputs": [
        {
          "output_type": "stream",
          "name": "stdout",
          "text": [
            "Requirement already satisfied: gensim in /usr/local/lib/python3.10/dist-packages (4.3.3)\n",
            "Requirement already satisfied: numpy<2.0,>=1.18.5 in /usr/local/lib/python3.10/dist-packages (from gensim) (1.26.4)\n",
            "Requirement already satisfied: scipy<1.14.0,>=1.7.0 in /usr/local/lib/python3.10/dist-packages (from gensim) (1.13.1)\n",
            "Requirement already satisfied: smart-open>=1.8.1 in /usr/local/lib/python3.10/dist-packages (from gensim) (7.0.5)\n",
            "Requirement already satisfied: wrapt in /usr/local/lib/python3.10/dist-packages (from smart-open>=1.8.1->gensim) (1.16.0)\n"
          ]
        }
      ],
      "source": [
        "!pip install gensim"
      ]
    },
    {
      "cell_type": "code",
      "source": [
        "article = \"\"\"Verdict\n",
        "The Apple iPhone 14 isn’t a huge upgrade from the iPhone 13, yet it is still a great phone with a top camera, good battery life, and iOS benefits.\n",
        "\n",
        "Pros\n",
        "Clever safety features\n",
        "Very good battery life\n",
        "Reliable camera\n",
        "Fun colours\n",
        "Cons\n",
        "Stuck on a 60Hz display\n",
        "Minimal differences to the iPhone 13\n",
        "Key Features\n",
        " Display6.1-inch OLED display with great HDR support\n",
        " Safety featuresEmergency SOS via satellite and Car Crash Detection\n",
        " Improved rear camera12MP wide camera takes better low-light snaps\n",
        "Introduction\n",
        "With the subsequent release of the iPhone 15 and iPhone 16, the iPhone 14 is no longer the latest smartphone in Apple’s collection – but it could still be a worthy purchase depending on the circumstances.\n",
        "\n",
        "Sure, the iPhone 14 doesn’t offer all the bells and whistles of newer models, like support for Apple Intelligence, boosted performance, and an upgraded 48MP rear camera, but its age is also a massive benefit. That’s mainly because the phone is now available for much less than its original £849 RRP, especially around big shopping seasons like Black Friday and Christmas.\n",
        "\n",
        "So, should you still go for the iPhone 14 in 2024? Here’s what we think of the 2022 flagship.\n",
        "\n",
        "Screen and Design\n",
        "Looks identical to the iPhone 13 (and iPhone 12)\n",
        "Nice display, but no ProMotion or Dynamic Island\n",
        "New array of colours, including a nice light blue\n",
        "For the third year running, Apple has stuck to the same overall design for its cheaper iPhone model. Aside from some slightly tweaked colours, including this rather tasteful blue I have been reviewing, there’s no obvious way to tell the 2021 and 2022 releases apart.\n",
        "\n",
        "While some tweaks would have been welcome, the iPhone 14 remains a good-looking phone. The flat sides have a matte finish so eschew fingerprints and smudges – very much the opposite of the iPhone 14 Pro – and I like how they match the colour of the glass back.\n",
        "\n",
        "It’s a light, comfortable device that’ll feel familiar to most. It’s also fairly durable, with an IP68 rating for water protection and Apple’s Ceramic Shield for adding some extra protection against drops. I still find these screens scratch too easily for my liking, so a screen protector is still a must for keeping the panel in the best condition. A few months after unboxing the phone there are some small scratches on the display.\n",
        "\n",
        "There’s no iPhone 14 Mini, instead, there’s a larger iPhone 14 Plus. The Plus has all the same tech as the regular iPhone 14, just in a larger body. If you like watching movies on the go or playing games, the bigger screen is better.\n",
        "\n",
        "The back of the iPhone 14\n",
        "Image Credit (Trusted Reviews)\n",
        "Like the design, the display is more of the same. ProMotion, the 120Hz adaptive refresh rate tech that enables the iPhone 14 Pro’s always-on display, is missing and if rumours are to be believed it won’t even feature on the iPhone 15 due to supply issues. That’s a real shame, as the smooth scrolling and extra skills this panel tech allows for are hugely missed, at least for me. You wouldn’t miss ProMotion or a high refresh rate if you’ve never used it, but it’s a feature that is hard to lose.\n",
        "\n",
        "It’s hard to give Apple a pass on not including a faster screen here, as even budget Android phones have them. The most comparable Samsung flagship, the Galaxy S23, also has a 120Hz display.\n",
        "\n",
        "It remains a good screen, though. Colours are faithful, there’s enough brightness for impactful HDR performance when streaming from Netflix, Apple TV Plus or others and the detail is sharp. The iPhone 14 Pro’s higher peak brightness makes it far more readable outdoors in really bright conditions and could be a deciding factor for someone who spends a lot of the day outside.\n",
        "\n",
        "The 6.1-inch OLED screen on the iPhone 14\n",
        "Image Credit (Trusted Reviews)\n",
        "Dynamic Island is another thing exclusive to the iPhone 14 Pro, leaving the iPhone 14 with the same dated notch as before. You can read all about the benefits of the Dynamic Island and how it turns the notch into a feature rather than an irritant in our iPhone 14 Pro review. It’s expected to feature on the iPhone 15, so could prove a major incentive to wait for the successor.\n",
        "\n",
        "Camera\n",
        "Two cameras on the back\n",
        "Improved selfie camera\n",
        "Telephoto zoom limited to the Pro\n",
        "The camera is the place where the most upgrades for the iPhone 14 are found. It packs the same 12MP rear sensor with an f/1.5 aperture as the iPhone 13 Pro, meaning it’s larger and faster than the iPhone 13.\n",
        "\n",
        "There are some notable upgrades that make the selfie camera much better at rendering accurate skin tones, and a slight tweaking of the image processing pipeline with the Photonic Engine.\n",
        "\n",
        "Two cameras on the back of the iPhone 14\n",
        "Image Credit (Trusted Reviews)\n",
        "The improvements over the iPhone 13 aren’t necessarily felt in daylight situations. Low-light shots have more detail, especially when Night Mode doesn’t kick in. Taking a picture of a dog’s fur, the iPhone 14 retained far more detail in the strands and this resulted in a far nicer image. This could either be a result of the Photonic Engine, the bigger sensor at play – or a combination of both.\n",
        "\n",
        "iphone14lowlightsample\n",
        "This was a scene lit by a single light, and the camera pulls out lots of detail and brightness\n",
        "iphone14lowlightsample\n",
        "There are no changes to the ultrawide camera, yet it again churns out better low-light shots than its predecessor. This is the most obvious place where the updated processing skills are seen and it actually makes this camera worthwhile using in situations that aren’t bright daylight.\n",
        "\n",
        "hone14lowlightsampleultrawide\n",
        "The ultrawide camera performance is a lot better in poor light\n",
        "In daylight situations, the iPhone 14 takes excellent snaps – just like the iPhone 13 did. Colours pop just the right amount, there’s lots of detail and excellent dynamic range. The bigger sensor also gives a shallower depth of field than the iPhone 13, allowing for a more natural blurry background when shooting up close.\n",
        "\n",
        "iphone14backgroundblur\n",
        "There’s a nice natural background blur thanks to the larger sensor\n",
        "iphone14daylightdetail\n",
        "The camera can pull out plenty of detail in daylight situations, though telling it apart from the iPhone 13 can be tricky\n",
        "If you want the best camera experience, the iPhone 14 Pro reigns – and the excellent Samsung Galaxy S23 Ultra beats that too. The upgraded 48MP main camera on the 14 Pro might oversharpen certain images, but for the most part, it offers up a superior experience with far more control thanks to the ProRes modes.\n",
        "\n",
        "The Pro phone also has a dedicated telephoto camera, something completely missing here, forcing the iPhone 14 to only use digital zoom. The Samsung Galaxy S23 is a similar price and has a proper zoom camera, making it far better here than the iPhone.\n",
        "\n",
        "Video remains a strong skill though, and an area the iPhone 14 is comfortably ahead of the Samsung and Google competition. New modes include a stabilised Action Mode that smooths out fast-moving subjects and the ability to shoot 4K in Cinematic Mode.\n",
        "\n",
        "Action Mode is a neat trick, even if the stabilisation isn’t on par with an action camera like the GoPro Hero 11. Still, if you’re shooting in a well-lit environment it’s worth using if capturing a fast subject.\n",
        "\n",
        "Performance\n",
        "Powered by the same chip as the iPhone 13 Pro\n",
        "No SIM slot in the US\n",
        "Fast, smooth performance\n",
        "There are two notable feature additions to the iPhone 14, although neither of them is an upgraded chipset. As has become a recurring theme of this review, the new A16 Bionic chipset is only available on the Pro models, although is tipped to arrive on the iPhone 15.\n",
        "\n",
        "Instead, it’s the safety additions that stand out. Those aren’t exactly features that make this iPhone 14 worth upgrading to from the iPhone 13 (or iPhone 12, for that matter), yet it’s good to see Apple looking at unique ways of expanding what we expect from a phone.\n",
        "\n",
        "First up there’s Car Crash Detection, a feature that uses the sensitive accelerometer inside the phone to alert emergency services (along with emergency contacts) after a collision. Testing every part of a phone is key to how we review at Trusted Reviews, but crashing a car purely to test a phone feature is taking things a little too far.\n",
        "\n",
        "Then there’s an emergency SOS feature made available by some clever new satellite tech. This lets you contact emergency services even when you’re out of network reach and currently live in the US, Canada and the UK.\n",
        "\n",
        "Gaming on the iPhone 14\n",
        "Image Credit (Trusted Reviews)\n",
        "Powering the iPhone 14 is the A15 Bionic chipset. More specifically, this is the version found in the iPhone 13 Pro, with a little more graphical grunt than the version from the iPhone 13.\n",
        "\n",
        "Let me say straight away that reusing an old chip is of no concern to me – the iPhone 13 Pro remains to this day one of the fastest phones. Throughout my week with the iPhone 14 it has never felt slow or laggy and I can’t really tell the difference between the performance here and on the A16 Bionic. I opened up a few Apple Arcade games, along with Genshin Impact and CoD Mobile, and they all played smoothly on the iPhone 14. Yes, the benchmark results are a little higher on the newer chip, but the difference is minimal in actual use.\n",
        "\n",
        "However, I would be concerned that having an older chip would shorten the lifespan of this model. Will it be supported as long as the iPhone 14 Pro? I would hope so, yet it’s a question that’s impossible to answer right now.\n",
        "\n",
        "In the US, Apple is shipping the entire iPhone 14 series without a SIM slot – instead, buyers will need to set up (or transfer over) an eSIM to the phone. My unit is the UK model and retains the slot which is smart, as eSIM is far less advanced here. I have been using the phone on Vodafone, a network that does support eSIM, yet Three doesn’t.\n",
        "\n",
        "The process for adding and transferring over an eSIM seems smart and easy, although your mileage may vary depending on networks. All models that have a physical SIM tray support multiple eSIMs too, so it’s there to try out.\n",
        "\n",
        "5G remains standard across the line and the Bluetooth standard has been upped to version 5.3, although there’s no Wi-Fi 6E or Wi-Fi 7 like you’ll find on the OnePlus 11. Call quality and general connectivity on the phone are great, as is the audio from the speakers.\n",
        "\n",
        "Video watching on the iPhone 14\n",
        "Image Credit (Trusted Reviews)\n",
        "Battery Life\n",
        "No charger included\n",
        "Endurance to get you through the day\n",
        "Wireless charging available\n",
        "The iPhone 14 has some modest battery improvements over the iPhone 13. But what’s more important is the improvements it has over the iPhone 12 and iPhone 11. I would assume most people who are keen on upgrading to this are coming from an iPhone (or Android phone) that’s a few years old, and if that’s you then the benefits are obvious.\n",
        "\n",
        "I was thoroughly impressed by the endurance of the iPhone 13, and the iPhone 14 ekes ever so slightly more juice out over the course of the day. For instance, Apple claims an extra hour of video playback and that’s exactly what I got. An hour of 100% brightness Netflix HDR streaming took off 9% on the iPhone 13, and 8% on the iPhone 14.\n",
        "\n",
        "It’s a similar story in gaming, with the battery saving a couple of per cent per hour when compared to the iPhone 13. I can comfortably get through a full, busy day with 20-30% left by bedtime, and on some quieter days there would be 35-40% left.\n",
        "\n",
        "The 6.1-inch OLED screen on the iPhone 14\n",
        "Image Credit (Trusted Reviews)\n",
        "Of course, there are no massive strides in battery tech here – but that’s an issue for the whole industry rather than just Apple itself. The aim is very much to get you through the day without worrying about finding a charger, something it manages more so than many Android phones.\n",
        "\n",
        "When it comes to charging, you’ll still need to provide your own plug (although a USB-C to Lightning cable is included in the box) or use either a MagSafe charger or another Qi-enabled pad. Wired charging is fastest as long as you’re using a 20w charger, with a full charge taking around 95 minutes. A 32-minute charge will get the phone from 0-50%. This falls well below some of the best Android phones, with the OnePlus 11 going from 0-100% in the amount of time the iPhone 14 can get to 50%.\n",
        "\n",
        "This could very well be the last year Apple uses Lightning as opposed to USB-C with certain EU laws coming into effect. This means the iPhone 15 is expected to feature a USB-C charging port instead, although we’re happy about this change, with Lightning becoming very slow for both charging and data transfer.\"\"\""
      ],
      "metadata": {
        "id": "6OACNrCaQcsH"
      },
      "execution_count": 2,
      "outputs": []
    },
    {
      "cell_type": "code",
      "source": [
        "#import library for NLP\n",
        "import nltk\n",
        "nltk.download('stopwords')\n",
        "nltk.download('punkt')\n",
        "from nltk.corpus import stopwords\n",
        "from nltk.tokenize import word_tokenize\n",
        "from collections import Counter\n",
        "nltk.download('punkt_tab')\n"
      ],
      "metadata": {
        "colab": {
          "base_uri": "https://localhost:8080/"
        },
        "id": "oHfr3eddRRLP",
        "outputId": "46b42852-5631-40fa-8a15-cfac29dd21d6"
      },
      "execution_count": 5,
      "outputs": [
        {
          "output_type": "stream",
          "name": "stderr",
          "text": [
            "[nltk_data] Downloading package stopwords to /root/nltk_data...\n",
            "[nltk_data]   Package stopwords is already up-to-date!\n",
            "[nltk_data] Downloading package punkt to /root/nltk_data...\n",
            "[nltk_data]   Package punkt is already up-to-date!\n",
            "[nltk_data] Downloading package punkt_tab to /root/nltk_data...\n",
            "[nltk_data]   Unzipping tokenizers/punkt_tab.zip.\n"
          ]
        },
        {
          "output_type": "execute_result",
          "data": {
            "text/plain": [
              "True"
            ]
          },
          "metadata": {},
          "execution_count": 5
        }
      ]
    },
    {
      "cell_type": "code",
      "source": [
        "# Step 1: Tokenisation\n",
        "tokens = word_tokenize(article)\n",
        "\n",
        "# Step 2: convert into lower\n",
        "lower_tokens = [token.lower() for token in tokens if token.isalpha()]\n",
        "\n",
        "# Step 3: Remove stopwords\n",
        "stop_words = set(stopwords.words('english'))\n",
        "filtered_tokens = [token for token in lower_tokens if token not in stop_words]\n",
        "\n",
        "# Step 4: count word - Bag of Word\n",
        "BoW = Counter(filtered_tokens)\n",
        "\n",
        "print(BoW.most_common(5))"
      ],
      "metadata": {
        "colab": {
          "base_uri": "https://localhost:8080/"
        },
        "id": "V6vOBhJFRdXD",
        "outputId": "8dcd03c5-05ca-45d6-d6a6-20d75ab5956d"
      },
      "execution_count": 11,
      "outputs": [
        {
          "output_type": "stream",
          "name": "stdout",
          "text": [
            "[('iphone', 68), ('camera', 18), ('pro', 15), ('phone', 14), ('apple', 13)]\n"
          ]
        }
      ]
    },
    {
      "cell_type": "markdown",
      "source": [
        "## Latent Dirichlet Allocation"
      ],
      "metadata": {
        "id": "vZohKrWkS23K"
      }
    },
    {
      "cell_type": "code",
      "source": [
        "# import library\n",
        "from gensim import corpora\n",
        "from gensim.corpora import Dictionary\n",
        "from gensim.models import LdaModel\n",
        "from nltk.tokenize import sent_tokenize"
      ],
      "metadata": {
        "id": "TKIVO5M6SPn7"
      },
      "execution_count": 10,
      "outputs": []
    },
    {
      "cell_type": "code",
      "source": [
        "# convert article into documents\n",
        "documents = sent_tokenize(article)\n"
      ],
      "metadata": {
        "id": "KZ6Z9IVqTkrq"
      },
      "execution_count": 14,
      "outputs": []
    },
    {
      "cell_type": "code",
      "source": [
        "# tokenize\n",
        "tokenized_words = [word_tokenize(doc.lower()) for doc in documents]\n",
        "#remove stopwords\n",
        "filtered_words = [[word for word in words if word not in stop_words and word.isalpha()] for words in tokenized_words]\n",
        "\n",
        "# create a dictionary\n",
        "dictionary = Dictionary(filtered_words)\n",
        "\n",
        "# create a corpus\n",
        "corpus = [dictionary.doc2bow(words) for words in filtered_words]\n"
      ],
      "metadata": {
        "id": "-L4-pg3AUPGD"
      },
      "execution_count": 20,
      "outputs": []
    },
    {
      "cell_type": "markdown",
      "source": [
        "## Build LDA model\n"
      ],
      "metadata": {
        "id": "dMrDB_m0Yhpl"
      }
    },
    {
      "cell_type": "code",
      "source": [
        "#model fitting\n",
        "model = LdaModel(corpus=corpus, num_topics=5, id2word=dictionary)"
      ],
      "metadata": {
        "colab": {
          "base_uri": "https://localhost:8080/"
        },
        "id": "qDfdMGHgVj_E",
        "outputId": "9260ae8d-4a26-4bde-d792-f02fa5843108"
      },
      "execution_count": 29,
      "outputs": [
        {
          "output_type": "stream",
          "name": "stderr",
          "text": [
            "WARNING:gensim.models.ldamodel:too few updates, training might not converge; consider increasing the number of passes or iterations to improve accuracy\n"
          ]
        }
      ]
    },
    {
      "cell_type": "code",
      "source": [
        "print(\"Identified topics:\")\n",
        "for id, topic in model.print_topics():\n",
        "    print(f\"Topic {id+1}: {topic}\")"
      ],
      "metadata": {
        "colab": {
          "base_uri": "https://localhost:8080/"
        },
        "id": "1Qz3msLGZIkb",
        "outputId": "bdfff0ab-2d5a-4044-fab1-66842392a18b"
      },
      "execution_count": 30,
      "outputs": [
        {
          "output_type": "stream",
          "name": "stdout",
          "text": [
            "Identified topics:\n",
            "Topic 1: 0.013*\"camera\" + 0.012*\"apple\" + 0.012*\"like\" + 0.012*\"extra\" + 0.008*\"could\" + 0.008*\"protection\" + 0.008*\"action\" + 0.008*\"certain\" + 0.008*\"bigger\" + 0.008*\"standard\"\n",
            "Topic 2: 0.059*\"iphone\" + 0.028*\"camera\" + 0.016*\"pro\" + 0.011*\"phone\" + 0.009*\"like\" + 0.009*\"apple\" + 0.008*\"also\" + 0.008*\"much\" + 0.007*\"excellent\" + 0.007*\"daylight\"\n",
            "Topic 3: 0.054*\"iphone\" + 0.010*\"screen\" + 0.009*\"display\" + 0.009*\"far\" + 0.009*\"apple\" + 0.008*\"including\" + 0.008*\"feature\" + 0.007*\"pro\" + 0.007*\"even\" + 0.006*\"although\"\n",
            "Topic 4: 0.043*\"iphone\" + 0.013*\"still\" + 0.012*\"pro\" + 0.011*\"would\" + 0.009*\"chip\" + 0.008*\"phone\" + 0.008*\"feature\" + 0.008*\"slot\" + 0.007*\"esim\" + 0.007*\"battery\"\n",
            "Topic 5: 0.030*\"iphone\" + 0.013*\"feature\" + 0.013*\"phone\" + 0.012*\"trusted\" + 0.012*\"reviews\" + 0.012*\"image\" + 0.010*\"emergency\" + 0.009*\"credit\" + 0.009*\"battery\" + 0.009*\"day\"\n"
          ]
        }
      ]
    },
    {
      "cell_type": "markdown",
      "source": [
        "## Non-Negative Matrix Factorization(NMF)\n"
      ],
      "metadata": {
        "id": "qQGXqhqKZoi7"
      }
    },
    {
      "cell_type": "code",
      "source": [
        "# import library\n",
        "from sklearn.feature_extraction.text import TfidfVectorizer\n",
        "from sklearn.decomposition import NMF"
      ],
      "metadata": {
        "id": "mRTopXEbZU97"
      },
      "execution_count": 31,
      "outputs": []
    },
    {
      "cell_type": "code",
      "source": [
        "# create a vetorizer\n",
        "vectorizer = TfidfVectorizer(stop_words='english').fit_transform(documents)"
      ],
      "metadata": {
        "id": "0QqHcv5waAix"
      },
      "execution_count": 32,
      "outputs": []
    },
    {
      "cell_type": "code",
      "source": [
        "# apply nmf\n",
        "num_topics = 5\n",
        "nmf = NMF(n_components=num_topics, random_state=42).fit(vectorizer)"
      ],
      "metadata": {
        "id": "gPUuTdoxaRsX"
      },
      "execution_count": 33,
      "outputs": []
    },
    {
      "cell_type": "code",
      "source": [
        "W = nmf.fit_transform(vectorizer)\n",
        "H = nmf.components_"
      ],
      "metadata": {
        "id": "24mqwNG6afcu"
      },
      "execution_count": 42,
      "outputs": []
    },
    {
      "cell_type": "code",
      "source": [
        "# print the results\n",
        "feature_names = vectorizer.get_feature_names_out()\n",
        "for topic_idx, topic in enumerate(H):\n",
        "    print(f\"Topic {topic_idx+1}:\")\n",
        "    print(\" \".join([feature_names[i] for i in topic.argsort()[-5:] [::-1]]))"
      ],
      "metadata": {
        "colab": {
          "base_uri": "https://localhost:8080/",
          "height": 211
        },
        "id": "1UYgOLkLatBd",
        "outputId": "46142208-7980-48c7-cec0-eb8ad0bcf49a"
      },
      "execution_count": 43,
      "outputs": [
        {
          "output_type": "error",
          "ename": "AttributeError",
          "evalue": "'csr_matrix' object has no attribute 'get_feature_names_out'",
          "traceback": [
            "\u001b[0;31m---------------------------------------------------------------------------\u001b[0m",
            "\u001b[0;31mAttributeError\u001b[0m                            Traceback (most recent call last)",
            "\u001b[0;32m<ipython-input-43-7ba21a5cfb88>\u001b[0m in \u001b[0;36m<cell line: 2>\u001b[0;34m()\u001b[0m\n\u001b[1;32m      1\u001b[0m \u001b[0;31m# print the results\u001b[0m\u001b[0;34m\u001b[0m\u001b[0;34m\u001b[0m\u001b[0m\n\u001b[0;32m----> 2\u001b[0;31m \u001b[0mfeature_names\u001b[0m \u001b[0;34m=\u001b[0m \u001b[0mvectorizer\u001b[0m\u001b[0;34m.\u001b[0m\u001b[0mget_feature_names_out\u001b[0m\u001b[0;34m(\u001b[0m\u001b[0;34m)\u001b[0m\u001b[0;34m\u001b[0m\u001b[0;34m\u001b[0m\u001b[0m\n\u001b[0m\u001b[1;32m      3\u001b[0m \u001b[0;32mfor\u001b[0m \u001b[0mtopic_idx\u001b[0m\u001b[0;34m,\u001b[0m \u001b[0mtopic\u001b[0m \u001b[0;32min\u001b[0m \u001b[0menumerate\u001b[0m\u001b[0;34m(\u001b[0m\u001b[0mH\u001b[0m\u001b[0;34m)\u001b[0m\u001b[0;34m:\u001b[0m\u001b[0;34m\u001b[0m\u001b[0;34m\u001b[0m\u001b[0m\n\u001b[1;32m      4\u001b[0m     \u001b[0mprint\u001b[0m\u001b[0;34m(\u001b[0m\u001b[0;34mf\"Topic {topic_idx+1}:\"\u001b[0m\u001b[0;34m)\u001b[0m\u001b[0;34m\u001b[0m\u001b[0;34m\u001b[0m\u001b[0m\n\u001b[1;32m      5\u001b[0m     \u001b[0mprint\u001b[0m\u001b[0;34m(\u001b[0m\u001b[0;34m\" \"\u001b[0m\u001b[0;34m.\u001b[0m\u001b[0mjoin\u001b[0m\u001b[0;34m(\u001b[0m\u001b[0;34m[\u001b[0m\u001b[0mfeature_names\u001b[0m\u001b[0;34m[\u001b[0m\u001b[0mi\u001b[0m\u001b[0;34m]\u001b[0m \u001b[0;32mfor\u001b[0m \u001b[0mi\u001b[0m \u001b[0;32min\u001b[0m \u001b[0mtopic\u001b[0m\u001b[0;34m.\u001b[0m\u001b[0margsort\u001b[0m\u001b[0;34m(\u001b[0m\u001b[0;34m)\u001b[0m\u001b[0;34m[\u001b[0m\u001b[0;34m-\u001b[0m\u001b[0;36m5\u001b[0m\u001b[0;34m:\u001b[0m\u001b[0;34m]\u001b[0m \u001b[0;34m[\u001b[0m\u001b[0;34m:\u001b[0m\u001b[0;34m:\u001b[0m\u001b[0;34m-\u001b[0m\u001b[0;36m1\u001b[0m\u001b[0;34m]\u001b[0m\u001b[0;34m]\u001b[0m\u001b[0;34m)\u001b[0m\u001b[0;34m)\u001b[0m\u001b[0;34m\u001b[0m\u001b[0;34m\u001b[0m\u001b[0m\n",
            "\u001b[0;31mAttributeError\u001b[0m: 'csr_matrix' object has no attribute 'get_feature_names_out'"
          ]
        }
      ]
    },
    {
      "cell_type": "code",
      "source": [
        "from sklearn.feature_extraction.text import TfidfVectorizer\n",
        "from sklearn.decomposition import NMF\n",
        "\n",
        "\n",
        "# Step 1: Convert text to TF-IDF matrix\n",
        "vectorizer = TfidfVectorizer(stop_words='english', max_features=20)\n",
        "tfidf_matrix = vectorizer.fit_transform(documents)\n",
        "\n",
        "# Step 2: Apply NMF\n",
        "n_components = 5  # Number of topics\n",
        "nmf_model = NMF(n_components=n_components, random_state=42)\n",
        "W = nmf_model.fit_transform(tfidf_matrix)  # Document-topic matrix\n",
        "H = nmf_model.components_                 # Topic-word matrix\n",
        "\n",
        "# Step 3: Display results\n",
        "print(\"Document-Topic Matrix (W):\")\n",
        "print(W)\n",
        "print(\"\\nTopic-Word Matrix (H):\")\n",
        "print(H)\n",
        "\n",
        "# Step 4: Interpret topics\n",
        "feature_names = vectorizer.get_feature_names_out()  # Call method on the vectorizer\n",
        "for topic_idx, topic in enumerate(H):\n",
        "    print(f\"\\nTopic {topic_idx}:\")\n",
        "    print(\" \".join([feature_names[i] for i in topic.argsort()[-5:][::-1]]))\n"
      ],
      "metadata": {
        "colab": {
          "base_uri": "https://localhost:8080/"
        },
        "id": "WG_amZE4clbU",
        "outputId": "b7f3af46-32f9-4627-864c-724e9d67f108"
      },
      "execution_count": 46,
      "outputs": [
        {
          "output_type": "stream",
          "name": "stdout",
          "text": [
            "Document-Topic Matrix (W):\n",
            "[[2.14371950e-01 1.95063768e-01 1.68944619e-01 1.68057251e-01\n",
            "  0.00000000e+00]\n",
            " [1.95835916e-01 1.37921944e-02 1.03461223e-01 3.02904714e-01\n",
            "  8.24869557e-04]\n",
            " [1.19033939e-01 7.73020523e-03 2.25369104e-01 3.32168025e-01\n",
            "  0.00000000e+00]\n",
            " [0.00000000e+00 3.82108649e-01 0.00000000e+00 1.50275369e-01\n",
            "  0.00000000e+00]\n",
            " [3.41048839e-01 0.00000000e+00 0.00000000e+00 0.00000000e+00\n",
            "  0.00000000e+00]\n",
            " [0.00000000e+00 0.00000000e+00 0.00000000e+00 0.00000000e+00\n",
            "  0.00000000e+00]\n",
            " [1.97549679e-01 1.36054219e-02 2.07417109e-01 4.76333921e-02\n",
            "  7.62940973e-03]\n",
            " [0.00000000e+00 0.00000000e+00 0.00000000e+00 0.00000000e+00\n",
            "  0.00000000e+00]\n",
            " [2.21781499e-01 4.04150734e-01 0.00000000e+00 0.00000000e+00\n",
            "  0.00000000e+00]\n",
            " [2.12924610e-01 1.67702555e-02 0.00000000e+00 1.83194636e-01\n",
            "  1.82183684e-02]\n",
            " [0.00000000e+00 0.00000000e+00 8.96676672e-03 1.53039736e-01\n",
            "  0.00000000e+00]\n",
            " [0.00000000e+00 0.00000000e+00 4.55629726e-01 0.00000000e+00\n",
            "  0.00000000e+00]\n",
            " [0.00000000e+00 0.00000000e+00 1.38566500e-01 2.24226405e-03\n",
            "  0.00000000e+00]\n",
            " [2.12854797e-03 3.75661691e-01 8.35766543e-03 5.80039415e-03\n",
            "  1.74821870e-02]\n",
            " [3.41048839e-01 0.00000000e+00 0.00000000e+00 0.00000000e+00\n",
            "  0.00000000e+00]\n",
            " [3.41048839e-01 0.00000000e+00 0.00000000e+00 0.00000000e+00\n",
            "  0.00000000e+00]\n",
            " [0.00000000e+00 1.35174462e-02 8.06220455e-02 2.28261456e-01\n",
            "  0.00000000e+00]\n",
            " [1.44951650e-01 3.57663913e-02 1.05633955e-02 9.12741143e-02\n",
            "  0.00000000e+00]\n",
            " [2.23309816e-01 1.84781028e-02 2.16101169e-03 2.75103502e-02\n",
            "  3.22063607e-01]\n",
            " [0.00000000e+00 0.00000000e+00 0.00000000e+00 0.00000000e+00\n",
            "  0.00000000e+00]\n",
            " [0.00000000e+00 0.00000000e+00 0.00000000e+00 0.00000000e+00\n",
            "  6.08994284e-01]\n",
            " [0.00000000e+00 0.00000000e+00 3.98643516e-01 0.00000000e+00\n",
            "  0.00000000e+00]\n",
            " [1.04567797e-02 4.07448283e-02 1.49505889e-02 2.05072084e-02\n",
            "  2.36562614e-02]\n",
            " [0.00000000e+00 0.00000000e+00 1.38566500e-01 2.24226405e-03\n",
            "  0.00000000e+00]\n",
            " [0.00000000e+00 0.00000000e+00 3.37052270e-01 2.30548617e-02\n",
            "  1.81894567e-02]\n",
            " [2.10858166e-01 0.00000000e+00 0.00000000e+00 1.37798421e-01\n",
            "  3.19570445e-02]\n",
            " [2.86605909e-01 3.39580873e-03 4.17962967e-02 1.60354096e-02\n",
            "  0.00000000e+00]\n",
            " [1.98386763e-01 0.00000000e+00 0.00000000e+00 3.15147406e-02\n",
            "  4.19543377e-01]\n",
            " [1.04426943e-01 0.00000000e+00 0.00000000e+00 0.00000000e+00\n",
            "  5.47422551e-01]\n",
            " [1.01554702e-01 0.00000000e+00 0.00000000e+00 5.14232369e-01\n",
            "  0.00000000e+00]\n",
            " [2.58596565e-01 0.00000000e+00 0.00000000e+00 1.84989884e-02\n",
            "  1.43754335e-02]\n",
            " [2.91453412e-03 0.00000000e+00 0.00000000e+00 4.06109600e-01\n",
            "  0.00000000e+00]\n",
            " [2.45415714e-01 6.92880415e-03 3.07554386e-04 0.00000000e+00\n",
            "  0.00000000e+00]\n",
            " [0.00000000e+00 0.00000000e+00 8.96676672e-03 1.53039736e-01\n",
            "  0.00000000e+00]\n",
            " [1.18814340e-01 1.32937408e-03 0.00000000e+00 1.28299378e-01\n",
            "  7.04295109e-03]\n",
            " [0.00000000e+00 0.00000000e+00 0.00000000e+00 0.00000000e+00\n",
            "  0.00000000e+00]\n",
            " [0.00000000e+00 0.00000000e+00 0.00000000e+00 4.89633612e-01\n",
            "  0.00000000e+00]\n",
            " [0.00000000e+00 0.00000000e+00 0.00000000e+00 5.35462753e-01\n",
            "  0.00000000e+00]\n",
            " [1.79261928e-01 2.55724673e-03 2.84405445e-02 3.85904087e-01\n",
            "  0.00000000e+00]\n",
            " [0.00000000e+00 0.00000000e+00 0.00000000e+00 0.00000000e+00\n",
            "  0.00000000e+00]\n",
            " [2.49074502e-01 0.00000000e+00 0.00000000e+00 0.00000000e+00\n",
            "  0.00000000e+00]\n",
            " [2.25934531e-01 0.00000000e+00 0.00000000e+00 4.05861412e-01\n",
            "  1.20689445e-03]\n",
            " [9.81334761e-02 0.00000000e+00 0.00000000e+00 4.04898402e-01\n",
            "  1.94054722e-02]\n",
            " [1.83917047e-01 2.74463761e-01 0.00000000e+00 3.07534268e-01\n",
            "  1.21668495e-02]\n",
            " [7.09416938e-02 0.00000000e+00 0.00000000e+00 4.38177697e-01\n",
            "  3.71106635e-03]\n",
            " [3.41048839e-01 0.00000000e+00 0.00000000e+00 0.00000000e+00\n",
            "  0.00000000e+00]\n",
            " [0.00000000e+00 0.00000000e+00 0.00000000e+00 0.00000000e+00\n",
            "  0.00000000e+00]\n",
            " [0.00000000e+00 1.53541853e-02 0.00000000e+00 5.12462800e-01\n",
            "  0.00000000e+00]\n",
            " [0.00000000e+00 0.00000000e+00 0.00000000e+00 0.00000000e+00\n",
            "  0.00000000e+00]\n",
            " [1.88501013e-01 0.00000000e+00 5.06661999e-02 4.10763159e-02\n",
            "  2.29745047e-01]\n",
            " [2.14516752e-01 0.00000000e+00 0.00000000e+00 6.96307624e-02\n",
            "  5.19847964e-02]\n",
            " [0.00000000e+00 0.00000000e+00 0.00000000e+00 0.00000000e+00\n",
            "  0.00000000e+00]\n",
            " [2.87976741e-01 2.12625852e-01 1.71800097e-01 0.00000000e+00\n",
            "  0.00000000e+00]\n",
            " [0.00000000e+00 3.62917679e-01 0.00000000e+00 0.00000000e+00\n",
            "  4.51565483e-01]\n",
            " [2.25087981e-03 3.62833287e-01 0.00000000e+00 3.82306085e-02\n",
            "  2.24584644e-01]\n",
            " [0.00000000e+00 0.00000000e+00 0.00000000e+00 0.00000000e+00\n",
            "  6.08994284e-01]\n",
            " [0.00000000e+00 0.00000000e+00 0.00000000e+00 0.00000000e+00\n",
            "  0.00000000e+00]\n",
            " [2.49290125e-01 7.20586764e-03 1.89068552e-03 0.00000000e+00\n",
            "  0.00000000e+00]\n",
            " [2.58596565e-01 0.00000000e+00 0.00000000e+00 1.84989884e-02\n",
            "  1.43754335e-02]\n",
            " [2.36999833e-01 0.00000000e+00 0.00000000e+00 4.73969060e-02\n",
            "  2.96507367e-02]\n",
            " [2.04094150e-01 0.00000000e+00 5.88850985e-02 2.14678023e-02\n",
            "  1.24089009e-02]\n",
            " [2.20283512e-01 0.00000000e+00 3.35683707e-01 0.00000000e+00\n",
            "  0.00000000e+00]\n",
            " [0.00000000e+00 0.00000000e+00 0.00000000e+00 0.00000000e+00\n",
            "  0.00000000e+00]\n",
            " [0.00000000e+00 0.00000000e+00 0.00000000e+00 0.00000000e+00\n",
            "  0.00000000e+00]\n",
            " [2.89159909e-01 0.00000000e+00 0.00000000e+00 5.53465726e-02\n",
            "  2.88588811e-02]\n",
            " [0.00000000e+00 0.00000000e+00 0.00000000e+00 0.00000000e+00\n",
            "  0.00000000e+00]\n",
            " [1.71060822e-01 3.24018221e-01 2.66536063e-01 0.00000000e+00\n",
            "  0.00000000e+00]\n",
            " [6.74606141e-04 2.91973150e-03 0.00000000e+00 1.42065896e-01\n",
            "  1.59693381e-02]\n",
            " [0.00000000e+00 5.47655258e-01 0.00000000e+00 0.00000000e+00\n",
            "  0.00000000e+00]\n",
            " [0.00000000e+00 0.00000000e+00 0.00000000e+00 0.00000000e+00\n",
            "  0.00000000e+00]\n",
            " [0.00000000e+00 0.00000000e+00 0.00000000e+00 0.00000000e+00\n",
            "  0.00000000e+00]\n",
            " [0.00000000e+00 3.07408866e-02 4.60663878e-03 2.13648420e-01\n",
            "  0.00000000e+00]\n",
            " [0.00000000e+00 5.47655258e-01 0.00000000e+00 0.00000000e+00\n",
            "  0.00000000e+00]\n",
            " [2.55444255e-01 4.21570228e-03 1.31325794e-02 0.00000000e+00\n",
            "  0.00000000e+00]\n",
            " [2.88553995e-01 9.66881813e-04 0.00000000e+00 0.00000000e+00\n",
            "  1.01750968e-02]\n",
            " [1.38181769e-01 4.72138576e-01 0.00000000e+00 0.00000000e+00\n",
            "  3.50698339e-03]\n",
            " [3.53036301e-01 0.00000000e+00 0.00000000e+00 0.00000000e+00\n",
            "  0.00000000e+00]\n",
            " [0.00000000e+00 0.00000000e+00 4.55629726e-01 0.00000000e+00\n",
            "  0.00000000e+00]\n",
            " [3.53036301e-01 0.00000000e+00 0.00000000e+00 0.00000000e+00\n",
            "  0.00000000e+00]\n",
            " [1.82291111e-01 0.00000000e+00 1.26977941e-02 0.00000000e+00\n",
            "  0.00000000e+00]\n",
            " [0.00000000e+00 0.00000000e+00 0.00000000e+00 0.00000000e+00\n",
            "  0.00000000e+00]\n",
            " [1.40140592e-01 6.02461530e-03 2.01826430e-01 0.00000000e+00\n",
            "  0.00000000e+00]\n",
            " [0.00000000e+00 0.00000000e+00 0.00000000e+00 0.00000000e+00\n",
            "  0.00000000e+00]\n",
            " [0.00000000e+00 0.00000000e+00 0.00000000e+00 0.00000000e+00\n",
            "  0.00000000e+00]\n",
            " [0.00000000e+00 0.00000000e+00 0.00000000e+00 0.00000000e+00\n",
            "  0.00000000e+00]\n",
            " [0.00000000e+00 5.47655258e-01 0.00000000e+00 0.00000000e+00\n",
            "  0.00000000e+00]\n",
            " [3.41048839e-01 0.00000000e+00 0.00000000e+00 0.00000000e+00\n",
            "  0.00000000e+00]\n",
            " [0.00000000e+00 0.00000000e+00 4.55629726e-01 0.00000000e+00\n",
            "  0.00000000e+00]\n",
            " [1.04426943e-01 0.00000000e+00 0.00000000e+00 0.00000000e+00\n",
            "  5.47422551e-01]]\n",
            "\n",
            "Topic-Word Matrix (H):\n",
            "[[0.75856186 1.37010835 0.         0.18882083 0.         0.\n",
            "  0.19532363 0.0925707  0.04144284 0.         0.18089955 1.96804917\n",
            "  0.         0.         0.09350752 0.         0.53781714 0.18151126\n",
            "  0.         0.18151126]\n",
            " [0.         0.01390348 0.01476836 0.00423505 0.         0.\n",
            "  0.         0.13819512 0.02058001 0.         0.         0.04034765\n",
            "  0.         0.11737511 0.         1.80440014 0.         0.04215677\n",
            "  0.         0.04215677]\n",
            " [0.         0.03915563 1.94964149 0.10061651 0.00388681 0.\n",
            "  0.02014339 0.07051819 0.         0.         0.00701868 0.03285482\n",
            "  0.05265971 0.04114333 0.32093705 0.         0.         0.01578793\n",
            "  0.59302171 0.01578793]\n",
            " [0.         0.02303255 0.         0.00659193 0.42434617 1.26044843\n",
            "  0.         0.05676726 0.33575972 0.         0.08290002 0.\n",
            "  0.36118689 0.50574993 0.1103077  0.         0.2509663  0.\n",
            "  0.01835387 0.        ]\n",
            " [0.         0.         0.         0.         0.         0.\n",
            "  0.         0.06897859 0.0529402  1.60184592 0.         0.13761002\n",
            "  0.         0.         0.07721826 0.         0.17860998 0.00390194\n",
            "  0.         0.00390194]]\n",
            "\n",
            "Topic 0:\n",
            "iphone 14 13 pro credit\n",
            "\n",
            "Topic 1:\n",
            "phone display like trusted reviews\n",
            "\n",
            "Topic 2:\n",
            "apple screen performance battery display\n",
            "\n",
            "Topic 3:\n",
            "camera like better light far\n",
            "\n",
            "Topic 4:\n",
            "feature pro iphone performance display\n"
          ]
        }
      ]
    },
    {
      "cell_type": "code",
      "source": [],
      "metadata": {
        "id": "pI-FXqZSc-1n"
      },
      "execution_count": null,
      "outputs": []
    }
  ]
}